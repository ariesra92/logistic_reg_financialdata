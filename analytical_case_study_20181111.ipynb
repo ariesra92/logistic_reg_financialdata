{
 "cells": [
  {
   "cell_type": "markdown",
   "metadata": {},
   "source": [
    "\n",
    "# Analytical Case Study \n",
    "##### Esra Arı\n",
    "\n",
    "\n",
    "## Table of Contents\n",
    "<ul>\n",
    "<li><a href=\"#intro\">Introduction</a></li>\n",
    "<li><a href=\"#wrangling\">Data Wrangling</a></li>\n",
    "<li><a href=\"#Question1\">Question1</a></li>\n",
    "<li><a href=\"#Question2\">Question2</a></li>\n",
    "<li><a href=\"#Question3\">Question3</a></li>\n",
    "<li><a href=\"#Question4\">Question4</a></li>\n",
    "<li><a href=\"#Question5\">Question5</a></li>\n",
    "<li><a href=\"#Question6\">Question6</a></li>\n",
    "<li><a href=\"#Question7\">Question7</a></li>\n",
    "</ul>"
   ]
  },
  {
   "cell_type": "markdown",
   "metadata": {},
   "source": [
    "<a id='intro'></a>\n",
    "## Introduction\n",
    "\n",
    "This analysis mainly aims to find a way to decide which one of these clients without financials have actually over 5 million TL net sales. With this aspect, basic statistitical analysis has been studied in the data wrangling part and questions have been answered in the following."
   ]
  },
  {
   "cell_type": "markdown",
   "metadata": {},
   "source": [
    "<a id='wrangling'></a>\n",
    "## Data Wrangling\n",
    "\n",
    "> * Load in the data, \n",
    "> * Check for cleanliness,  \n",
    "> * If necessary trim and clean for analysis.\n",
    "\n",
    "Before exploring the dataset, necessary modules are imported for the analysis. "
   ]
  },
  {
   "cell_type": "code",
   "execution_count": 1,
   "metadata": {},
   "outputs": [
    {
     "name": "stderr",
     "output_type": "stream",
     "text": [
      "C:\\Users\\U083682\\AppData\\Local\\Continuum\\anaconda3\\lib\\site-packages\\sklearn\\cross_validation.py:41: DeprecationWarning: This module was deprecated in version 0.18 in favor of the model_selection module into which all the refactored classes and functions are moved. Also note that the interface of the new CV iterators are different from that of this module. This module will be removed in 0.20.\n",
      "  \"This module will be removed in 0.20.\", DeprecationWarning)\n"
     ]
    }
   ],
   "source": [
    "import pandas as pd\n",
    "import numpy as np\n",
    "import matplotlib.pyplot as plt\n",
    "import seaborn as sns\n",
    "import statsmodels.api as sm\n",
    "from sklearn.preprocessing import Imputer\n",
    "from sklearn.cross_validation import train_test_split\n",
    "from sklearn.preprocessing import StandardScaler\n",
    "from sklearn.linear_model import LogisticRegression\n",
    "from sklearn.metrics import confusion_matrix\n",
    "% matplotlib inline"
   ]
  },
  {
   "cell_type": "markdown",
   "metadata": {},
   "source": [
    "In this section we are going to upload and look up the table and basic statistic to gain some inside for the questions."
   ]
  },
  {
   "cell_type": "code",
   "execution_count": 4,
   "metadata": {},
   "outputs": [
    {
     "data": {
      "text/html": [
       "<div>\n",
       "<style scoped>\n",
       "    .dataframe tbody tr th:only-of-type {\n",
       "        vertical-align: middle;\n",
       "    }\n",
       "\n",
       "    .dataframe tbody tr th {\n",
       "        vertical-align: top;\n",
       "    }\n",
       "\n",
       "    .dataframe thead th {\n",
       "        text-align: right;\n",
       "    }\n",
       "</style>\n",
       "<table border=\"1\" class=\"dataframe\">\n",
       "  <thead>\n",
       "    <tr style=\"text-align: right;\">\n",
       "      <th></th>\n",
       "      <th>YEAR</th>\n",
       "      <th>Customer_num</th>\n",
       "      <th>Establishment_Date</th>\n",
       "      <th>Number_of_Emp</th>\n",
       "      <th>Profit</th>\n",
       "      <th>Sector</th>\n",
       "      <th>Region</th>\n",
       "      <th>Total Risk</th>\n",
       "      <th>Total Limit</th>\n",
       "      <th>Sales</th>\n",
       "    </tr>\n",
       "  </thead>\n",
       "  <tbody>\n",
       "    <tr>\n",
       "      <th>8738</th>\n",
       "      <td>2016</td>\n",
       "      <td>RATI5805YXI</td>\n",
       "      <td>38150</td>\n",
       "      <td>42.0</td>\n",
       "      <td>NaN</td>\n",
       "      <td>MANUFACTURING</td>\n",
       "      <td>NaN</td>\n",
       "      <td>956544.0</td>\n",
       "      <td>4297456.0</td>\n",
       "      <td>3</td>\n",
       "    </tr>\n",
       "    <tr>\n",
       "      <th>661</th>\n",
       "      <td>2015</td>\n",
       "      <td>RATI8155IDO</td>\n",
       "      <td>39143</td>\n",
       "      <td>6.0</td>\n",
       "      <td>44880.0</td>\n",
       "      <td>MANUFACTURING</td>\n",
       "      <td>Marmara Region</td>\n",
       "      <td>600226.0</td>\n",
       "      <td>3544291.0</td>\n",
       "      <td>0</td>\n",
       "    </tr>\n",
       "    <tr>\n",
       "      <th>5273</th>\n",
       "      <td>2012</td>\n",
       "      <td>RATI1930VVL</td>\n",
       "      <td>39100</td>\n",
       "      <td>10.0</td>\n",
       "      <td>122334.0</td>\n",
       "      <td>MANUFACTURING</td>\n",
       "      <td>Marmara Region</td>\n",
       "      <td>257573.0</td>\n",
       "      <td>1739869.0</td>\n",
       "      <td>0</td>\n",
       "    </tr>\n",
       "    <tr>\n",
       "      <th>4773</th>\n",
       "      <td>2011</td>\n",
       "      <td>RATI1725NCY</td>\n",
       "      <td>35259</td>\n",
       "      <td>2.0</td>\n",
       "      <td>52975.0</td>\n",
       "      <td>OTHERS</td>\n",
       "      <td>Marmara Region</td>\n",
       "      <td>733.0</td>\n",
       "      <td>331180.0</td>\n",
       "      <td>0</td>\n",
       "    </tr>\n",
       "    <tr>\n",
       "      <th>10236</th>\n",
       "      <td>2011</td>\n",
       "      <td>RATI4512HYI</td>\n",
       "      <td>39097</td>\n",
       "      <td>3.0</td>\n",
       "      <td>NaN</td>\n",
       "      <td>RETAIL-WHOLESALE</td>\n",
       "      <td>Aegean Region</td>\n",
       "      <td>152464.0</td>\n",
       "      <td>190558.0</td>\n",
       "      <td>3</td>\n",
       "    </tr>\n",
       "    <tr>\n",
       "      <th>1991</th>\n",
       "      <td>2015</td>\n",
       "      <td>RATI2777TPB</td>\n",
       "      <td>32186</td>\n",
       "      <td>4.0</td>\n",
       "      <td>NaN</td>\n",
       "      <td>RETAIL-WHOLESALE</td>\n",
       "      <td>Marmara Region</td>\n",
       "      <td>25648.0</td>\n",
       "      <td>113589.0</td>\n",
       "      <td>3</td>\n",
       "    </tr>\n",
       "    <tr>\n",
       "      <th>1645</th>\n",
       "      <td>2011</td>\n",
       "      <td>RATI1415KYL</td>\n",
       "      <td>37722</td>\n",
       "      <td>11.0</td>\n",
       "      <td>-8166.0</td>\n",
       "      <td>RETAIL-WHOLESALE</td>\n",
       "      <td>NaN</td>\n",
       "      <td>263633.0</td>\n",
       "      <td>310712.0</td>\n",
       "      <td>0</td>\n",
       "    </tr>\n",
       "    <tr>\n",
       "      <th>7118</th>\n",
       "      <td>2012</td>\n",
       "      <td>RATI1050RGH</td>\n",
       "      <td>37960</td>\n",
       "      <td>22.0</td>\n",
       "      <td>NaN</td>\n",
       "      <td>OTHERS</td>\n",
       "      <td>NaN</td>\n",
       "      <td>290835.0</td>\n",
       "      <td>812033.0</td>\n",
       "      <td>3</td>\n",
       "    </tr>\n",
       "    <tr>\n",
       "      <th>4548</th>\n",
       "      <td>2010</td>\n",
       "      <td>RATI6786KCE</td>\n",
       "      <td>34091</td>\n",
       "      <td>NaN</td>\n",
       "      <td>107727.0</td>\n",
       "      <td>MANUFACTURING</td>\n",
       "      <td>Marmara Region</td>\n",
       "      <td>302708.0</td>\n",
       "      <td>616672.0</td>\n",
       "      <td>1</td>\n",
       "    </tr>\n",
       "    <tr>\n",
       "      <th>1437</th>\n",
       "      <td>2015</td>\n",
       "      <td>RATI2416HXD</td>\n",
       "      <td>37308</td>\n",
       "      <td>4.0</td>\n",
       "      <td>NaN</td>\n",
       "      <td>RETAIL-WHOLESALE</td>\n",
       "      <td>Marmara Region</td>\n",
       "      <td>34307.0</td>\n",
       "      <td>136797.0</td>\n",
       "      <td>3</td>\n",
       "    </tr>\n",
       "  </tbody>\n",
       "</table>\n",
       "</div>"
      ],
      "text/plain": [
       "       YEAR Customer_num   Establishment_Date  Number_of_Emp    Profit  \\\n",
       "8738   2016   RATI5805YXI               38150           42.0       NaN   \n",
       "661    2015   RATI8155IDO               39143            6.0   44880.0   \n",
       "5273   2012   RATI1930VVL               39100           10.0  122334.0   \n",
       "4773   2011   RATI1725NCY               35259            2.0   52975.0   \n",
       "10236  2011   RATI4512HYI               39097            3.0       NaN   \n",
       "1991   2015   RATI2777TPB               32186            4.0       NaN   \n",
       "1645   2011   RATI1415KYL               37722           11.0   -8166.0   \n",
       "7118   2012   RATI1050RGH               37960           22.0       NaN   \n",
       "4548   2010   RATI6786KCE               34091            NaN  107727.0   \n",
       "1437   2015   RATI2416HXD               37308            4.0       NaN   \n",
       "\n",
       "                 Sector          Region  Total Risk   Total Limit  Sales  \n",
       "8738      MANUFACTURING             NaN     956544.0    4297456.0      3  \n",
       "661       MANUFACTURING  Marmara Region     600226.0    3544291.0      0  \n",
       "5273      MANUFACTURING  Marmara Region     257573.0    1739869.0      0  \n",
       "4773             OTHERS  Marmara Region        733.0     331180.0      0  \n",
       "10236  RETAIL-WHOLESALE   Aegean Region     152464.0     190558.0      3  \n",
       "1991   RETAIL-WHOLESALE  Marmara Region      25648.0     113589.0      3  \n",
       "1645   RETAIL-WHOLESALE             NaN     263633.0     310712.0      0  \n",
       "7118             OTHERS             NaN     290835.0     812033.0      3  \n",
       "4548      MANUFACTURING  Marmara Region     302708.0     616672.0      1  \n",
       "1437   RETAIL-WHOLESALE  Marmara Region      34307.0     136797.0      3  "
      ]
     },
     "execution_count": 4,
     "metadata": {},
     "output_type": "execute_result"
    }
   ],
   "source": [
    "df = pd.read_csv(\"GB_RATI_AnalyticalCaseStudy_Data.csv\")\n",
    "df.sample(10)"
   ]
  },
  {
   "cell_type": "markdown",
   "metadata": {},
   "source": [
    "At first glance, it seems that there is a clean dataset. \n",
    "* As the case stated, bank does not have current financial statement for each company that can be seen in Profit column  as there are null values and in Sales column the value 3 indicates no information\n",
    "\n",
    "* Also, we have some data quality issues in the establisment_date column"
   ]
  },
  {
   "cell_type": "code",
   "execution_count": 5,
   "metadata": {},
   "outputs": [
    {
     "data": {
      "text/plain": [
       "(11357, 10)"
      ]
     },
     "execution_count": 5,
     "metadata": {},
     "output_type": "execute_result"
    }
   ],
   "source": [
    "df.shape"
   ]
  },
  {
   "cell_type": "markdown",
   "metadata": {},
   "source": [
    "Dataset includes approximately 11K rows and 10 colomns/features"
   ]
  },
  {
   "cell_type": "code",
   "execution_count": 6,
   "metadata": {},
   "outputs": [
    {
     "name": "stdout",
     "output_type": "stream",
     "text": [
      "<class 'pandas.core.frame.DataFrame'>\n",
      "RangeIndex: 11357 entries, 0 to 11356\n",
      "Data columns (total 10 columns):\n",
      "YEAR                  11357 non-null int64\n",
      "Customer_num          11357 non-null object\n",
      "Establishment_Date    11357 non-null int64\n",
      "Number_of_Emp         10771 non-null float64\n",
      "Profit                8526 non-null float64\n",
      "Sector                11357 non-null object\n",
      "Region                10118 non-null object\n",
      "Total Risk            11192 non-null float64\n",
      "Total Limit           11192 non-null float64\n",
      "Sales                 11357 non-null int64\n",
      "dtypes: float64(4), int64(3), object(3)\n",
      "memory usage: 887.3+ KB\n"
     ]
    }
   ],
   "source": [
    "df.info()"
   ]
  },
  {
   "cell_type": "markdown",
   "metadata": {},
   "source": [
    "* As expected there are some null values in the features which are number_of_Emp, Profit, Sector, Region; because bank does not have these information\n",
    "\n",
    "* I also observe that there are null values in Total Risk and Total Limit features; because they may be newly opened companies"
   ]
  },
  {
   "cell_type": "code",
   "execution_count": 7,
   "metadata": {},
   "outputs": [
    {
     "data": {
      "text/html": [
       "<div>\n",
       "<style scoped>\n",
       "    .dataframe tbody tr th:only-of-type {\n",
       "        vertical-align: middle;\n",
       "    }\n",
       "\n",
       "    .dataframe tbody tr th {\n",
       "        vertical-align: top;\n",
       "    }\n",
       "\n",
       "    .dataframe thead th {\n",
       "        text-align: right;\n",
       "    }\n",
       "</style>\n",
       "<table border=\"1\" class=\"dataframe\">\n",
       "  <thead>\n",
       "    <tr style=\"text-align: right;\">\n",
       "      <th></th>\n",
       "      <th>YEAR</th>\n",
       "      <th>Establishment_Date</th>\n",
       "      <th>Number_of_Emp</th>\n",
       "      <th>Profit</th>\n",
       "      <th>Total Risk</th>\n",
       "      <th>Total Limit</th>\n",
       "      <th>Sales</th>\n",
       "    </tr>\n",
       "  </thead>\n",
       "  <tbody>\n",
       "    <tr>\n",
       "      <th>count</th>\n",
       "      <td>11357.000000</td>\n",
       "      <td>11357.000000</td>\n",
       "      <td>10771.000000</td>\n",
       "      <td>8.526000e+03</td>\n",
       "      <td>1.119200e+04</td>\n",
       "      <td>1.119200e+04</td>\n",
       "      <td>11357.000000</td>\n",
       "    </tr>\n",
       "    <tr>\n",
       "      <th>mean</th>\n",
       "      <td>2013.939421</td>\n",
       "      <td>37291.960729</td>\n",
       "      <td>16.611642</td>\n",
       "      <td>6.138343e+04</td>\n",
       "      <td>1.249427e+06</td>\n",
       "      <td>2.536513e+06</td>\n",
       "      <td>0.874791</td>\n",
       "    </tr>\n",
       "    <tr>\n",
       "      <th>std</th>\n",
       "      <td>2.216296</td>\n",
       "      <td>2828.828350</td>\n",
       "      <td>84.039303</td>\n",
       "      <td>4.084090e+05</td>\n",
       "      <td>4.356318e+07</td>\n",
       "      <td>1.862993e+07</td>\n",
       "      <td>1.267010</td>\n",
       "    </tr>\n",
       "    <tr>\n",
       "      <th>min</th>\n",
       "      <td>2010.000000</td>\n",
       "      <td>18.000000</td>\n",
       "      <td>1.000000</td>\n",
       "      <td>-1.828452e+07</td>\n",
       "      <td>0.000000e+00</td>\n",
       "      <td>2.831000e+03</td>\n",
       "      <td>0.000000</td>\n",
       "    </tr>\n",
       "    <tr>\n",
       "      <th>25%</th>\n",
       "      <td>2012.000000</td>\n",
       "      <td>35427.000000</td>\n",
       "      <td>4.000000</td>\n",
       "      <td>1.349725e+04</td>\n",
       "      <td>1.197878e+05</td>\n",
       "      <td>5.153302e+05</td>\n",
       "      <td>0.000000</td>\n",
       "    </tr>\n",
       "    <tr>\n",
       "      <th>50%</th>\n",
       "      <td>2014.000000</td>\n",
       "      <td>37804.000000</td>\n",
       "      <td>7.000000</td>\n",
       "      <td>4.505250e+04</td>\n",
       "      <td>3.953125e+05</td>\n",
       "      <td>1.291620e+06</td>\n",
       "      <td>0.000000</td>\n",
       "    </tr>\n",
       "    <tr>\n",
       "      <th>75%</th>\n",
       "      <td>2016.000000</td>\n",
       "      <td>39445.000000</td>\n",
       "      <td>16.000000</td>\n",
       "      <td>1.165898e+05</td>\n",
       "      <td>1.006619e+06</td>\n",
       "      <td>2.931796e+06</td>\n",
       "      <td>1.000000</td>\n",
       "    </tr>\n",
       "    <tr>\n",
       "      <th>max</th>\n",
       "      <td>2017.000000</td>\n",
       "      <td>42535.000000</td>\n",
       "      <td>3333.000000</td>\n",
       "      <td>3.724579e+06</td>\n",
       "      <td>4.602535e+09</td>\n",
       "      <td>1.894825e+09</td>\n",
       "      <td>3.000000</td>\n",
       "    </tr>\n",
       "  </tbody>\n",
       "</table>\n",
       "</div>"
      ],
      "text/plain": [
       "               YEAR  Establishment_Date  Number_of_Emp        Profit  \\\n",
       "count  11357.000000        11357.000000   10771.000000  8.526000e+03   \n",
       "mean    2013.939421        37291.960729      16.611642  6.138343e+04   \n",
       "std        2.216296         2828.828350      84.039303  4.084090e+05   \n",
       "min     2010.000000           18.000000       1.000000 -1.828452e+07   \n",
       "25%     2012.000000        35427.000000       4.000000  1.349725e+04   \n",
       "50%     2014.000000        37804.000000       7.000000  4.505250e+04   \n",
       "75%     2016.000000        39445.000000      16.000000  1.165898e+05   \n",
       "max     2017.000000        42535.000000    3333.000000  3.724579e+06   \n",
       "\n",
       "        Total Risk    Total Limit         Sales  \n",
       "count  1.119200e+04  1.119200e+04  11357.000000  \n",
       "mean   1.249427e+06  2.536513e+06      0.874791  \n",
       "std    4.356318e+07  1.862993e+07      1.267010  \n",
       "min    0.000000e+00  2.831000e+03      0.000000  \n",
       "25%    1.197878e+05  5.153302e+05      0.000000  \n",
       "50%    3.953125e+05  1.291620e+06      0.000000  \n",
       "75%    1.006619e+06  2.931796e+06      1.000000  \n",
       "max    4.602535e+09  1.894825e+09      3.000000  "
      ]
     },
     "execution_count": 7,
     "metadata": {},
     "output_type": "execute_result"
    }
   ],
   "source": [
    "df.describe()"
   ]
  },
  {
   "cell_type": "markdown",
   "metadata": {},
   "source": [
    "Here we have some summary statistics for numeric variables\n",
    "* Oldest information comes from the year 2010, newest one is the year 2017 \n",
    "* Establisment_Date needs to be renamed; because, it is not a date. It can be number of days since company was founded\n",
    "* Sales feature needs to be converted to object from numeric data type\n",
    "* Profit takes negative values that may be logical\n",
    "* Total Risk, Total Limit and Sales columns do not have any outstanding major problems. Total Risk and Total Limit labels maybe renamed due to blank in the labeling"
   ]
  },
  {
   "cell_type": "code",
   "execution_count": 8,
   "metadata": {},
   "outputs": [
    {
     "data": {
      "text/plain": [
       "RETAIL-WHOLESALE    5752\n",
       "MANUFACTURING       2897\n",
       "OTHERS              1798\n",
       "SERVICES             910\n",
       "Name: Sector, dtype: int64"
      ]
     },
     "execution_count": 8,
     "metadata": {},
     "output_type": "execute_result"
    }
   ],
   "source": [
    "df.Sector.value_counts()"
   ]
  },
  {
   "cell_type": "code",
   "execution_count": 9,
   "metadata": {},
   "outputs": [
    {
     "data": {
      "text/plain": [
       "Marmara Region                  5166\n",
       "Central Anatolia Region         1540\n",
       "Aegean Region                   1212\n",
       "Mediterranean Region            1129\n",
       "Black Sea Region                 477\n",
       "Southeastern Anatolia Region     398\n",
       "Eastern Anatolia Region          196\n",
       "Name: Region, dtype: int64"
      ]
     },
     "execution_count": 9,
     "metadata": {},
     "output_type": "execute_result"
    }
   ],
   "source": [
    "df.Region.value_counts()"
   ]
  },
  {
   "cell_type": "code",
   "execution_count": 10,
   "metadata": {},
   "outputs": [
    {
     "data": {
      "text/plain": [
       "0    7084\n",
       "3    2831\n",
       "1    1442\n",
       "Name: Sales, dtype: int64"
      ]
     },
     "execution_count": 10,
     "metadata": {},
     "output_type": "execute_result"
    }
   ],
   "source": [
    "df.Sales.value_counts()"
   ]
  },
  {
   "cell_type": "markdown",
   "metadata": {},
   "source": [
    "Here we have the distribution of categorical variables\n",
    "* Most companies operate on the retail sector in the Marmara region\n",
    "* Both Sector and Region features seem to be very clean\n",
    "* Only 2831 observations do not have sales information, they need to be excluded before performing any predictive analysis"
   ]
  },
  {
   "cell_type": "code",
   "execution_count": 11,
   "metadata": {},
   "outputs": [
    {
     "data": {
      "text/plain": [
       "2017    1767\n",
       "2016    1724\n",
       "2015    1604\n",
       "2014    1527\n",
       "2013    1394\n",
       "2012    1294\n",
       "2011    1129\n",
       "2010     918\n",
       "Name: YEAR, dtype: int64"
      ]
     },
     "execution_count": 11,
     "metadata": {},
     "output_type": "execute_result"
    }
   ],
   "source": [
    "df.YEAR.value_counts()"
   ]
  },
  {
   "cell_type": "markdown",
   "metadata": {},
   "source": [
    "* Old data exists in the dataset. Data which is older than a certain level may be considered to be excluded from dataset as a business perspective; because, data may lose its informative value"
   ]
  },
  {
   "cell_type": "code",
   "execution_count": 12,
   "metadata": {},
   "outputs": [
    {
     "data": {
      "text/html": [
       "<div>\n",
       "<style scoped>\n",
       "    .dataframe tbody tr th:only-of-type {\n",
       "        vertical-align: middle;\n",
       "    }\n",
       "\n",
       "    .dataframe tbody tr th {\n",
       "        vertical-align: top;\n",
       "    }\n",
       "\n",
       "    .dataframe thead th {\n",
       "        text-align: right;\n",
       "    }\n",
       "</style>\n",
       "<table border=\"1\" class=\"dataframe\">\n",
       "  <thead>\n",
       "    <tr style=\"text-align: right;\">\n",
       "      <th></th>\n",
       "      <th>YEAR</th>\n",
       "      <th>Customer_num</th>\n",
       "      <th>Establishment_Date</th>\n",
       "      <th>Number_of_Emp</th>\n",
       "      <th>Profit</th>\n",
       "      <th>Sector</th>\n",
       "      <th>Region</th>\n",
       "      <th>Total Risk</th>\n",
       "      <th>Total Limit</th>\n",
       "      <th>Sales</th>\n",
       "    </tr>\n",
       "  </thead>\n",
       "  <tbody>\n",
       "    <tr>\n",
       "      <th>100</th>\n",
       "      <td>2016</td>\n",
       "      <td>RATI9475NNY</td>\n",
       "      <td>36789</td>\n",
       "      <td>1.0</td>\n",
       "      <td>-52876.0</td>\n",
       "      <td>MANUFACTURING</td>\n",
       "      <td>Central Anatolia Region</td>\n",
       "      <td>58386.0</td>\n",
       "      <td>1503634.0</td>\n",
       "      <td>0</td>\n",
       "    </tr>\n",
       "    <tr>\n",
       "      <th>105</th>\n",
       "      <td>2013</td>\n",
       "      <td>RATI9475NNY</td>\n",
       "      <td>36792</td>\n",
       "      <td>1.0</td>\n",
       "      <td>-14572.0</td>\n",
       "      <td>MANUFACTURING</td>\n",
       "      <td>Central Anatolia Region</td>\n",
       "      <td>70887.0</td>\n",
       "      <td>1943044.0</td>\n",
       "      <td>0</td>\n",
       "    </tr>\n",
       "    <tr>\n",
       "      <th>134</th>\n",
       "      <td>2014</td>\n",
       "      <td>RATI9571DKB</td>\n",
       "      <td>36697</td>\n",
       "      <td>1.0</td>\n",
       "      <td>13361.0</td>\n",
       "      <td>MANUFACTURING</td>\n",
       "      <td>Central Anatolia Region</td>\n",
       "      <td>61918.0</td>\n",
       "      <td>435756.0</td>\n",
       "      <td>0</td>\n",
       "    </tr>\n",
       "    <tr>\n",
       "      <th>174</th>\n",
       "      <td>2010</td>\n",
       "      <td>RATI1077KXC</td>\n",
       "      <td>33455</td>\n",
       "      <td>NaN</td>\n",
       "      <td>NaN</td>\n",
       "      <td>RETAIL-WHOLESALE</td>\n",
       "      <td>Aegean Region</td>\n",
       "      <td>21417.0</td>\n",
       "      <td>1808611.0</td>\n",
       "      <td>3</td>\n",
       "    </tr>\n",
       "    <tr>\n",
       "      <th>198</th>\n",
       "      <td>2015</td>\n",
       "      <td>RATI7201XMY</td>\n",
       "      <td>38955</td>\n",
       "      <td>30.0</td>\n",
       "      <td>NaN</td>\n",
       "      <td>RETAIL-WHOLESALE</td>\n",
       "      <td>Aegean Region</td>\n",
       "      <td>144858.0</td>\n",
       "      <td>1980660.0</td>\n",
       "      <td>3</td>\n",
       "    </tr>\n",
       "  </tbody>\n",
       "</table>\n",
       "</div>"
      ],
      "text/plain": [
       "     YEAR Customer_num   Establishment_Date  Number_of_Emp   Profit  \\\n",
       "100  2016   RATI9475NNY               36789            1.0 -52876.0   \n",
       "105  2013   RATI9475NNY               36792            1.0 -14572.0   \n",
       "134  2014   RATI9571DKB               36697            1.0  13361.0   \n",
       "174  2010   RATI1077KXC               33455            NaN      NaN   \n",
       "198  2015   RATI7201XMY               38955           30.0      NaN   \n",
       "\n",
       "               Sector                   Region  Total Risk   Total Limit  \\\n",
       "100     MANUFACTURING  Central Anatolia Region      58386.0    1503634.0   \n",
       "105     MANUFACTURING  Central Anatolia Region      70887.0    1943044.0   \n",
       "134     MANUFACTURING  Central Anatolia Region      61918.0     435756.0   \n",
       "174  RETAIL-WHOLESALE            Aegean Region      21417.0    1808611.0   \n",
       "198  RETAIL-WHOLESALE            Aegean Region     144858.0    1980660.0   \n",
       "\n",
       "     Sales  \n",
       "100      0  \n",
       "105      0  \n",
       "134      0  \n",
       "174      3  \n",
       "198      3  "
      ]
     },
     "execution_count": 12,
     "metadata": {},
     "output_type": "execute_result"
    }
   ],
   "source": [
    "df[df.iloc[:,1:2].duplicated()].head()"
   ]
  },
  {
   "cell_type": "markdown",
   "metadata": {},
   "source": [
    "* It can be seen that there are duplicated customerid's. Data needs to be unique in terms of clients; clients latest information could be extracted from data."
   ]
  },
  {
   "cell_type": "code",
   "execution_count": 13,
   "metadata": {},
   "outputs": [
    {
     "data": {
      "text/plain": [
       "Index(['YEAR', 'Customer_num ', 'Establishment_Date', 'Number_of_Emp',\n",
       "       'Profit', 'Sector', 'Region', 'Total Risk ', 'Total Limit', 'Sales'],\n",
       "      dtype='object')"
      ]
     },
     "execution_count": 13,
     "metadata": {},
     "output_type": "execute_result"
    }
   ],
   "source": [
    "df.columns"
   ]
  },
  {
   "cell_type": "markdown",
   "metadata": {},
   "source": [
    "* It can be seen that there are problematic column names which have unecessary blanks"
   ]
  },
  {
   "cell_type": "markdown",
   "metadata": {},
   "source": [
    "<a id='Question1'></a>\n",
    "## Question1\n",
    "\n",
    "Do you think this data is suitable for modeling, if it is not, what improvements should be done?"
   ]
  },
  {
   "cell_type": "markdown",
   "metadata": {},
   "source": [
    "We have very basic dataset. Features and target are clearly defined. However, following tidiness and quality issues that found from at the data wrangling part, is needed to be solved.\n",
    "\n",
    "* Labels should be renamed especially for 'Customer_num ', 'Total Risk ', 'Total Limit' and 'Establishment_Date' columns\n",
    "* There are duplicated customer id's. Data should be unique in terms of customer id; therefore, customers's latest information can be used for further analysis\n",
    "* Sales needs to be converted factor format and observations which have 3 value in the Sales columns need to be excluded from dataset\n",
    "* Missing value treatment should be done for null values and standardization should be applied before diving into any modeling\n",
    "* To use categorical data in the modeling, they are needed to be encoded\n",
    "\n",
    "Apart from improvable issues that claimed above, there are so some points that needs to be considered.\n",
    "\n",
    "* More information may be added into dataset such as payment amount to justify the balance of client or information about company's sector position or its culture that Mrs. Sevinç stated to find out the exception\n",
    "\n",
    "* Old data exists in the dataset. Data which is older than a certain level maybe considered to be excluded from dataset as a business perspective; because, data may  lose its informative value\n",
    "\n",
    "* Final but not least, target rate should be investigated during time period to check whether it is stable, or not\n",
    "\n"
   ]
  },
  {
   "cell_type": "markdown",
   "metadata": {},
   "source": [
    "## Cleaning Data\n",
    "\n",
    "In this section, I am going to define the problem which are listed in Question1, code the solution then test the code sequentialy."
   ]
  },
  {
   "cell_type": "code",
   "execution_count": 14,
   "metadata": {},
   "outputs": [],
   "source": [
    "df_clean = df.copy()"
   ]
  },
  {
   "cell_type": "markdown",
   "metadata": {},
   "source": [
    "#### Define (1)\n",
    "\n",
    "Labels should be renamed especially for 'Customer_num ', 'Total Risk ', 'Total Limit' and 'Establishment_Date' columns."
   ]
  },
  {
   "cell_type": "markdown",
   "metadata": {},
   "source": [
    "#### Code"
   ]
  },
  {
   "cell_type": "code",
   "execution_count": 15,
   "metadata": {},
   "outputs": [],
   "source": [
    "df_clean = df_clean.rename(columns={'Customer_num ' :'Customer_num',\n",
    "                                    'Establishment_Date' : 'Customer_day_tenure',\n",
    "                                    'Total Risk ':'Total_Risk',\n",
    "                                    'Total Limit': 'Total_Limit'})"
   ]
  },
  {
   "cell_type": "markdown",
   "metadata": {},
   "source": [
    "#### Test"
   ]
  },
  {
   "cell_type": "code",
   "execution_count": 16,
   "metadata": {},
   "outputs": [
    {
     "data": {
      "text/plain": [
       "Index(['YEAR', 'Customer_num', 'Customer_day_tenure', 'Number_of_Emp',\n",
       "       'Profit', 'Sector', 'Region', 'Total_Risk', 'Total_Limit', 'Sales'],\n",
       "      dtype='object')"
      ]
     },
     "execution_count": 16,
     "metadata": {},
     "output_type": "execute_result"
    }
   ],
   "source": [
    "df_clean.columns"
   ]
  },
  {
   "cell_type": "markdown",
   "metadata": {},
   "source": [
    "#### Define(2)\n",
    "\n",
    "There are duplicated customer id's. Data should be unique in terms of customer id while taking the latest information of client."
   ]
  },
  {
   "cell_type": "markdown",
   "metadata": {},
   "source": [
    "#### Code"
   ]
  },
  {
   "cell_type": "code",
   "execution_count": 17,
   "metadata": {},
   "outputs": [],
   "source": [
    "df_clean = df_clean.groupby('Customer_num', group_keys=False).apply(lambda x: x.loc[x.YEAR.idxmax()])"
   ]
  },
  {
   "cell_type": "markdown",
   "metadata": {},
   "source": [
    "#### Test"
   ]
  },
  {
   "cell_type": "code",
   "execution_count": 18,
   "metadata": {},
   "outputs": [
    {
     "data": {
      "text/html": [
       "<div>\n",
       "<style scoped>\n",
       "    .dataframe tbody tr th:only-of-type {\n",
       "        vertical-align: middle;\n",
       "    }\n",
       "\n",
       "    .dataframe tbody tr th {\n",
       "        vertical-align: top;\n",
       "    }\n",
       "\n",
       "    .dataframe thead th {\n",
       "        text-align: right;\n",
       "    }\n",
       "</style>\n",
       "<table border=\"1\" class=\"dataframe\">\n",
       "  <thead>\n",
       "    <tr style=\"text-align: right;\">\n",
       "      <th></th>\n",
       "      <th>YEAR</th>\n",
       "      <th>Customer_num</th>\n",
       "      <th>Establishment_Date</th>\n",
       "      <th>Number_of_Emp</th>\n",
       "      <th>Profit</th>\n",
       "      <th>Sector</th>\n",
       "      <th>Region</th>\n",
       "      <th>Total Risk</th>\n",
       "      <th>Total Limit</th>\n",
       "      <th>Sales</th>\n",
       "    </tr>\n",
       "  </thead>\n",
       "  <tbody>\n",
       "    <tr>\n",
       "      <th>25</th>\n",
       "      <td>2015</td>\n",
       "      <td>RATI9475NNY</td>\n",
       "      <td>36799</td>\n",
       "      <td>1.0</td>\n",
       "      <td>38313.0</td>\n",
       "      <td>MANUFACTURING</td>\n",
       "      <td>Central Anatolia Region</td>\n",
       "      <td>54008.0</td>\n",
       "      <td>1521978.0</td>\n",
       "      <td>0</td>\n",
       "    </tr>\n",
       "    <tr>\n",
       "      <th>100</th>\n",
       "      <td>2016</td>\n",
       "      <td>RATI9475NNY</td>\n",
       "      <td>36789</td>\n",
       "      <td>1.0</td>\n",
       "      <td>-52876.0</td>\n",
       "      <td>MANUFACTURING</td>\n",
       "      <td>Central Anatolia Region</td>\n",
       "      <td>58386.0</td>\n",
       "      <td>1503634.0</td>\n",
       "      <td>0</td>\n",
       "    </tr>\n",
       "    <tr>\n",
       "      <th>105</th>\n",
       "      <td>2013</td>\n",
       "      <td>RATI9475NNY</td>\n",
       "      <td>36792</td>\n",
       "      <td>1.0</td>\n",
       "      <td>-14572.0</td>\n",
       "      <td>MANUFACTURING</td>\n",
       "      <td>Central Anatolia Region</td>\n",
       "      <td>70887.0</td>\n",
       "      <td>1943044.0</td>\n",
       "      <td>0</td>\n",
       "    </tr>\n",
       "    <tr>\n",
       "      <th>1549</th>\n",
       "      <td>2014</td>\n",
       "      <td>RATI9475NNY</td>\n",
       "      <td>36791</td>\n",
       "      <td>1.0</td>\n",
       "      <td>NaN</td>\n",
       "      <td>MANUFACTURING</td>\n",
       "      <td>Central Anatolia Region</td>\n",
       "      <td>37175.0</td>\n",
       "      <td>1811846.0</td>\n",
       "      <td>3</td>\n",
       "    </tr>\n",
       "    <tr>\n",
       "      <th>4031</th>\n",
       "      <td>2011</td>\n",
       "      <td>RATI9475NNY</td>\n",
       "      <td>36807</td>\n",
       "      <td>1.0</td>\n",
       "      <td>28832.0</td>\n",
       "      <td>MANUFACTURING</td>\n",
       "      <td>Central Anatolia Region</td>\n",
       "      <td>394075.0</td>\n",
       "      <td>547229.0</td>\n",
       "      <td>0</td>\n",
       "    </tr>\n",
       "    <tr>\n",
       "      <th>6790</th>\n",
       "      <td>2010</td>\n",
       "      <td>RATI9475NNY</td>\n",
       "      <td>36811</td>\n",
       "      <td>1.0</td>\n",
       "      <td>22443.0</td>\n",
       "      <td>MANUFACTURING</td>\n",
       "      <td>Central Anatolia Region</td>\n",
       "      <td>159931.0</td>\n",
       "      <td>497849.0</td>\n",
       "      <td>0</td>\n",
       "    </tr>\n",
       "    <tr>\n",
       "      <th>11284</th>\n",
       "      <td>2012</td>\n",
       "      <td>RATI9475NNY</td>\n",
       "      <td>36803</td>\n",
       "      <td>1.0</td>\n",
       "      <td>15461.0</td>\n",
       "      <td>MANUFACTURING</td>\n",
       "      <td>Central Anatolia Region</td>\n",
       "      <td>67113.0</td>\n",
       "      <td>1919368.0</td>\n",
       "      <td>0</td>\n",
       "    </tr>\n",
       "  </tbody>\n",
       "</table>\n",
       "</div>"
      ],
      "text/plain": [
       "       YEAR Customer_num   Establishment_Date  Number_of_Emp   Profit  \\\n",
       "25     2015   RATI9475NNY               36799            1.0  38313.0   \n",
       "100    2016   RATI9475NNY               36789            1.0 -52876.0   \n",
       "105    2013   RATI9475NNY               36792            1.0 -14572.0   \n",
       "1549   2014   RATI9475NNY               36791            1.0      NaN   \n",
       "4031   2011   RATI9475NNY               36807            1.0  28832.0   \n",
       "6790   2010   RATI9475NNY               36811            1.0  22443.0   \n",
       "11284  2012   RATI9475NNY               36803            1.0  15461.0   \n",
       "\n",
       "              Sector                   Region  Total Risk   Total Limit  Sales  \n",
       "25     MANUFACTURING  Central Anatolia Region      54008.0    1521978.0      0  \n",
       "100    MANUFACTURING  Central Anatolia Region      58386.0    1503634.0      0  \n",
       "105    MANUFACTURING  Central Anatolia Region      70887.0    1943044.0      0  \n",
       "1549   MANUFACTURING  Central Anatolia Region      37175.0    1811846.0      3  \n",
       "4031   MANUFACTURING  Central Anatolia Region     394075.0     547229.0      0  \n",
       "6790   MANUFACTURING  Central Anatolia Region     159931.0     497849.0      0  \n",
       "11284  MANUFACTURING  Central Anatolia Region      67113.0    1919368.0      0  "
      ]
     },
     "execution_count": 18,
     "metadata": {},
     "output_type": "execute_result"
    }
   ],
   "source": [
    "df.loc[df['Customer_num '] == 'RATI9475NNY', ]"
   ]
  },
  {
   "cell_type": "code",
   "execution_count": 19,
   "metadata": {},
   "outputs": [
    {
     "data": {
      "text/html": [
       "<div>\n",
       "<style scoped>\n",
       "    .dataframe tbody tr th:only-of-type {\n",
       "        vertical-align: middle;\n",
       "    }\n",
       "\n",
       "    .dataframe tbody tr th {\n",
       "        vertical-align: top;\n",
       "    }\n",
       "\n",
       "    .dataframe thead th {\n",
       "        text-align: right;\n",
       "    }\n",
       "</style>\n",
       "<table border=\"1\" class=\"dataframe\">\n",
       "  <thead>\n",
       "    <tr style=\"text-align: right;\">\n",
       "      <th></th>\n",
       "      <th>YEAR</th>\n",
       "      <th>Customer_num</th>\n",
       "      <th>Customer_day_tenure</th>\n",
       "      <th>Number_of_Emp</th>\n",
       "      <th>Profit</th>\n",
       "      <th>Sector</th>\n",
       "      <th>Region</th>\n",
       "      <th>Total_Risk</th>\n",
       "      <th>Total_Limit</th>\n",
       "      <th>Sales</th>\n",
       "    </tr>\n",
       "    <tr>\n",
       "      <th>Customer_num</th>\n",
       "      <th></th>\n",
       "      <th></th>\n",
       "      <th></th>\n",
       "      <th></th>\n",
       "      <th></th>\n",
       "      <th></th>\n",
       "      <th></th>\n",
       "      <th></th>\n",
       "      <th></th>\n",
       "      <th></th>\n",
       "    </tr>\n",
       "  </thead>\n",
       "  <tbody>\n",
       "    <tr>\n",
       "      <th>RATI9475NNY</th>\n",
       "      <td>2016</td>\n",
       "      <td>RATI9475NNY</td>\n",
       "      <td>36789</td>\n",
       "      <td>1.0</td>\n",
       "      <td>-52876.0</td>\n",
       "      <td>MANUFACTURING</td>\n",
       "      <td>Central Anatolia Region</td>\n",
       "      <td>58386.0</td>\n",
       "      <td>1503634.0</td>\n",
       "      <td>0</td>\n",
       "    </tr>\n",
       "  </tbody>\n",
       "</table>\n",
       "</div>"
      ],
      "text/plain": [
       "              YEAR Customer_num  Customer_day_tenure  Number_of_Emp   Profit  \\\n",
       "Customer_num                                                                   \n",
       "RATI9475NNY   2016  RATI9475NNY                36789            1.0 -52876.0   \n",
       "\n",
       "                     Sector                   Region  Total_Risk  Total_Limit  \\\n",
       "Customer_num                                                                    \n",
       "RATI9475NNY   MANUFACTURING  Central Anatolia Region     58386.0    1503634.0   \n",
       "\n",
       "              Sales  \n",
       "Customer_num         \n",
       "RATI9475NNY       0  "
      ]
     },
     "execution_count": 19,
     "metadata": {},
     "output_type": "execute_result"
    }
   ],
   "source": [
    "df_clean.loc[df_clean['Customer_num'] == 'RATI9475NNY', ]"
   ]
  },
  {
   "cell_type": "markdown",
   "metadata": {},
   "source": [
    "#### Define(3)\n",
    "\n",
    "Sales needs to be converted factor format and observations which have 3 value in the Sales columns need to be excluded from dataset."
   ]
  },
  {
   "cell_type": "markdown",
   "metadata": {},
   "source": [
    "#### Code"
   ]
  },
  {
   "cell_type": "code",
   "execution_count": 20,
   "metadata": {},
   "outputs": [],
   "source": [
    "df_clean['Sales'] = df_clean['Sales'].astype(int)\n"
   ]
  },
  {
   "cell_type": "code",
   "execution_count": 21,
   "metadata": {},
   "outputs": [],
   "source": [
    "df_clean = df_clean[df_clean.Sales != 3]"
   ]
  },
  {
   "cell_type": "markdown",
   "metadata": {},
   "source": [
    "#### Test"
   ]
  },
  {
   "cell_type": "code",
   "execution_count": 22,
   "metadata": {},
   "outputs": [
    {
     "data": {
      "text/plain": [
       "0    2412\n",
       "1     634\n",
       "Name: Sales, dtype: int64"
      ]
     },
     "execution_count": 22,
     "metadata": {},
     "output_type": "execute_result"
    }
   ],
   "source": [
    "df_clean.Sales.value_counts()"
   ]
  },
  {
   "cell_type": "markdown",
   "metadata": {},
   "source": [
    "<a id='Question2'></a>\n",
    "## Question2\n",
    "\n",
    "What is your opinion about Mr. Yılmaz’s assumption that “clients with more than 5 million risks in banking sector, also has over 5 million net sales”? Do you think this argument is statistically correct?"
   ]
  },
  {
   "cell_type": "markdown",
   "metadata": {},
   "source": [
    "To answer this question, I need to use logistic regression; because, each row is either having 5 Mio sales or not(binary). The goal is to use logistic to fit the regression model to see if there is a significant difference in sales based on client's risk amount. However, I first need to create a column for the intercept, and create a dummy variable column to indicate whether client has risk higher than 5 Mio. "
   ]
  },
  {
   "cell_type": "code",
   "execution_count": 23,
   "metadata": {},
   "outputs": [],
   "source": [
    "df_clean['Risk'] = df_clean['Total_Risk'] > 5000000\n",
    "df_clean['Risk'] = df_clean['Risk'].map({True: 1, False: 0})"
   ]
  },
  {
   "cell_type": "code",
   "execution_count": 24,
   "metadata": {},
   "outputs": [
    {
     "name": "stdout",
     "output_type": "stream",
     "text": [
      "<class 'pandas.core.frame.DataFrame'>\n",
      "Index: 3046 entries, RATI1000EDC to RATI9996WER\n",
      "Data columns (total 11 columns):\n",
      "YEAR                   3046 non-null int64\n",
      "Customer_num           3046 non-null object\n",
      "Customer_day_tenure    3046 non-null int64\n",
      "Number_of_Emp          2954 non-null float64\n",
      "Profit                 3046 non-null float64\n",
      "Sector                 3046 non-null object\n",
      "Region                 2769 non-null object\n",
      "Total_Risk             3019 non-null float64\n",
      "Total_Limit            3019 non-null float64\n",
      "Sales                  3046 non-null int32\n",
      "Risk                   3046 non-null int64\n",
      "dtypes: float64(4), int32(1), int64(3), object(3)\n",
      "memory usage: 273.7+ KB\n"
     ]
    }
   ],
   "source": [
    "df_clean.info()"
   ]
  },
  {
   "cell_type": "markdown",
   "metadata": {},
   "source": [
    "Also, still I have missing values in the Total_Risk feature. I should remove these observation before doing hypothesis testing."
   ]
  },
  {
   "cell_type": "code",
   "execution_count": 25,
   "metadata": {},
   "outputs": [],
   "source": [
    "df_clean['intercept'] = 1\n",
    "df_clean.drop(df_clean[df_clean['Total_Risk'].notnull()== False].index,inplace=True)"
   ]
  },
  {
   "cell_type": "code",
   "execution_count": 26,
   "metadata": {},
   "outputs": [
    {
     "name": "stdout",
     "output_type": "stream",
     "text": [
      "<class 'pandas.core.frame.DataFrame'>\n",
      "Index: 3019 entries, RATI1000EDC to RATI9996WER\n",
      "Data columns (total 12 columns):\n",
      "YEAR                   3019 non-null int64\n",
      "Customer_num           3019 non-null object\n",
      "Customer_day_tenure    3019 non-null int64\n",
      "Number_of_Emp          2930 non-null float64\n",
      "Profit                 3019 non-null float64\n",
      "Sector                 3019 non-null object\n",
      "Region                 2750 non-null object\n",
      "Total_Risk             3019 non-null float64\n",
      "Total_Limit            3019 non-null float64\n",
      "Sales                  3019 non-null int32\n",
      "Risk                   3019 non-null int64\n",
      "intercept              3019 non-null int64\n",
      "dtypes: float64(4), int32(1), int64(4), object(3)\n",
      "memory usage: 294.8+ KB\n"
     ]
    }
   ],
   "source": [
    "df_clean.info()"
   ]
  },
  {
   "cell_type": "code",
   "execution_count": 27,
   "metadata": {},
   "outputs": [
    {
     "data": {
      "text/plain": [
       "Risk  Sales\n",
       "0     0        2342\n",
       "      1         587\n",
       "1     0          46\n",
       "      1          44\n",
       "Name: Customer_num, dtype: int64"
      ]
     },
     "execution_count": 27,
     "metadata": {},
     "output_type": "execute_result"
    }
   ],
   "source": [
    "df_clean.groupby(['Risk','Sales']).nunique()['Customer_num']"
   ]
  },
  {
   "cell_type": "code",
   "execution_count": 28,
   "metadata": {},
   "outputs": [
    {
     "name": "stdout",
     "output_type": "stream",
     "text": [
      "Optimization terminated successfully.\n",
      "         Current function value: 0.506692\n",
      "         Iterations 5\n"
     ]
    }
   ],
   "source": [
    "logit1 = sm.Logit(df_clean['Sales'],df_clean[['intercept' ,'Risk']])\n",
    "outputs1 = logit1.fit()"
   ]
  },
  {
   "cell_type": "code",
   "execution_count": 19,
   "metadata": {},
   "outputs": [
    {
     "data": {
      "text/html": [
       "<table class=\"simpletable\">\n",
       "<caption>Logit Regression Results</caption>\n",
       "<tr>\n",
       "  <th>Dep. Variable:</th>       <td>Sales</td>      <th>  No. Observations:  </th>  <td>  3019</td>  \n",
       "</tr>\n",
       "<tr>\n",
       "  <th>Model:</th>               <td>Logit</td>      <th>  Df Residuals:      </th>  <td>  3017</td>  \n",
       "</tr>\n",
       "<tr>\n",
       "  <th>Method:</th>               <td>MLE</td>       <th>  Df Model:          </th>  <td>     1</td>  \n",
       "</tr>\n",
       "<tr>\n",
       "  <th>Date:</th>          <td>Sun, 11 Nov 2018</td> <th>  Pseudo R-squ.:     </th>  <td>0.01161</td> \n",
       "</tr>\n",
       "<tr>\n",
       "  <th>Time:</th>              <td>10:56:11</td>     <th>  Log-Likelihood:    </th> <td> -1529.7</td> \n",
       "</tr>\n",
       "<tr>\n",
       "  <th>converged:</th>           <td>True</td>       <th>  LL-Null:           </th> <td> -1547.7</td> \n",
       "</tr>\n",
       "<tr>\n",
       "  <th> </th>                      <td> </td>        <th>  LLR p-value:       </th> <td>2.050e-09</td>\n",
       "</tr>\n",
       "</table>\n",
       "<table class=\"simpletable\">\n",
       "<tr>\n",
       "      <td></td>         <th>coef</th>     <th>std err</th>      <th>z</th>      <th>P>|z|</th>  <th>[0.025</th>    <th>0.975]</th>  \n",
       "</tr>\n",
       "<tr>\n",
       "  <th>intercept</th> <td>   -1.3837</td> <td>    0.046</td> <td>  -29.978</td> <td> 0.000</td> <td>   -1.474</td> <td>   -1.293</td>\n",
       "</tr>\n",
       "<tr>\n",
       "  <th>Risk</th>      <td>    1.3393</td> <td>    0.216</td> <td>    6.204</td> <td> 0.000</td> <td>    0.916</td> <td>    1.762</td>\n",
       "</tr>\n",
       "</table>"
      ],
      "text/plain": [
       "<class 'statsmodels.iolib.summary.Summary'>\n",
       "\"\"\"\n",
       "                           Logit Regression Results                           \n",
       "==============================================================================\n",
       "Dep. Variable:                  Sales   No. Observations:                 3019\n",
       "Model:                          Logit   Df Residuals:                     3017\n",
       "Method:                           MLE   Df Model:                            1\n",
       "Date:                Sun, 11 Nov 2018   Pseudo R-squ.:                 0.01161\n",
       "Time:                        10:56:11   Log-Likelihood:                -1529.7\n",
       "converged:                       True   LL-Null:                       -1547.7\n",
       "                                        LLR p-value:                 2.050e-09\n",
       "==============================================================================\n",
       "                 coef    std err          z      P>|z|      [0.025      0.975]\n",
       "------------------------------------------------------------------------------\n",
       "intercept     -1.3837      0.046    -29.978      0.000      -1.474      -1.293\n",
       "Risk           1.3393      0.216      6.204      0.000       0.916       1.762\n",
       "==============================================================================\n",
       "\"\"\""
      ]
     },
     "execution_count": 19,
     "metadata": {},
     "output_type": "execute_result"
    }
   ],
   "source": [
    "outputs1.summary()"
   ]
  },
  {
   "cell_type": "markdown",
   "metadata": {},
   "source": [
    "* There is strong statistical evidence to claim that clients with more than 5 million risks in banking sector, also has over 5 million net sales. (p-value less than 0.05)\n",
    "\n",
    "* This means that for a one-unit increase in  Risk (in other words, going from having less than 5 mio risk to having greater than 5 Mio risk), we expect a 1.3393 increase in the log-odds of the dependent variable Sales(having greater than 5 mio sales), holding all other independent variables constant"
   ]
  },
  {
   "cell_type": "markdown",
   "metadata": {},
   "source": [
    "<a id='Question3'></a>\n",
    "## Question3\n",
    "\n",
    "How do you calculate experience in sector of clients? Do you think this variable is related to net sales as Mrs. Sevinç stated?"
   ]
  },
  {
   "cell_type": "markdown",
   "metadata": {},
   "source": [
    "Data includes the tenure of customer in terms of day. Like I have already done in the second question, we can do logistic regression to find out whether feature statistically important or not."
   ]
  },
  {
   "cell_type": "code",
   "execution_count": 29,
   "metadata": {},
   "outputs": [
    {
     "name": "stdout",
     "output_type": "stream",
     "text": [
      "Optimization terminated successfully.\n",
      "         Current function value: 0.508531\n",
      "         Iterations 5\n"
     ]
    }
   ],
   "source": [
    "logit2 = sm.Logit(df_clean['Sales'],df_clean[['intercept' ,'Customer_day_tenure']])\n",
    "outputs2 = logit2.fit()"
   ]
  },
  {
   "cell_type": "code",
   "execution_count": 21,
   "metadata": {},
   "outputs": [
    {
     "data": {
      "text/html": [
       "<table class=\"simpletable\">\n",
       "<caption>Logit Regression Results</caption>\n",
       "<tr>\n",
       "  <th>Dep. Variable:</th>       <td>Sales</td>      <th>  No. Observations:  </th>  <td>  3019</td>  \n",
       "</tr>\n",
       "<tr>\n",
       "  <th>Model:</th>               <td>Logit</td>      <th>  Df Residuals:      </th>  <td>  3017</td>  \n",
       "</tr>\n",
       "<tr>\n",
       "  <th>Method:</th>               <td>MLE</td>       <th>  Df Model:          </th>  <td>     1</td>  \n",
       "</tr>\n",
       "<tr>\n",
       "  <th>Date:</th>          <td>Sun, 11 Nov 2018</td> <th>  Pseudo R-squ.:     </th> <td>0.008019</td> \n",
       "</tr>\n",
       "<tr>\n",
       "  <th>Time:</th>              <td>10:56:18</td>     <th>  Log-Likelihood:    </th> <td> -1535.3</td> \n",
       "</tr>\n",
       "<tr>\n",
       "  <th>converged:</th>           <td>True</td>       <th>  LL-Null:           </th> <td> -1547.7</td> \n",
       "</tr>\n",
       "<tr>\n",
       "  <th> </th>                      <td> </td>        <th>  LLR p-value:       </th> <td>6.293e-07</td>\n",
       "</tr>\n",
       "</table>\n",
       "<table class=\"simpletable\">\n",
       "<tr>\n",
       "           <td></td>              <th>coef</th>     <th>std err</th>      <th>z</th>      <th>P>|z|</th>  <th>[0.025</th>    <th>0.975]</th>  \n",
       "</tr>\n",
       "<tr>\n",
       "  <th>intercept</th>           <td>    1.4122</td> <td>    0.550</td> <td>    2.566</td> <td> 0.010</td> <td>    0.334</td> <td>    2.491</td>\n",
       "</tr>\n",
       "<tr>\n",
       "  <th>Customer_day_tenure</th> <td>-7.273e-05</td> <td> 1.46e-05</td> <td>   -4.979</td> <td> 0.000</td> <td>   -0.000</td> <td>-4.41e-05</td>\n",
       "</tr>\n",
       "</table>"
      ],
      "text/plain": [
       "<class 'statsmodels.iolib.summary.Summary'>\n",
       "\"\"\"\n",
       "                           Logit Regression Results                           \n",
       "==============================================================================\n",
       "Dep. Variable:                  Sales   No. Observations:                 3019\n",
       "Model:                          Logit   Df Residuals:                     3017\n",
       "Method:                           MLE   Df Model:                            1\n",
       "Date:                Sun, 11 Nov 2018   Pseudo R-squ.:                0.008019\n",
       "Time:                        10:56:18   Log-Likelihood:                -1535.3\n",
       "converged:                       True   LL-Null:                       -1547.7\n",
       "                                        LLR p-value:                 6.293e-07\n",
       "=======================================================================================\n",
       "                          coef    std err          z      P>|z|      [0.025      0.975]\n",
       "---------------------------------------------------------------------------------------\n",
       "intercept               1.4122      0.550      2.566      0.010       0.334       2.491\n",
       "Customer_day_tenure -7.273e-05   1.46e-05     -4.979      0.000      -0.000   -4.41e-05\n",
       "=======================================================================================\n",
       "\"\"\""
      ]
     },
     "execution_count": 21,
     "metadata": {},
     "output_type": "execute_result"
    }
   ],
   "source": [
    "outputs2.summary()"
   ]
  },
  {
   "cell_type": "markdown",
   "metadata": {},
   "source": [
    "Customer tenure in terms of day information is statistically important; because, p-value is less than 0.05. For every one-unit increase in customer day tenure, we expect a 0,07273 decrease in the log-odds of Sales, holding all other independent variables constant. It means that when companies with more experience, they are less likely to have greater than 5 mio sales."
   ]
  },
  {
   "cell_type": "markdown",
   "metadata": {},
   "source": [
    "<a id='Question4'></a>\n",
    "## Question4\n",
    "\n",
    "How is your variables’ basic statistics and graphics (distributions, histograms etc.)? Do you observe any errors?"
   ]
  },
  {
   "cell_type": "code",
   "execution_count": 30,
   "metadata": {
    "scrolled": true
   },
   "outputs": [
    {
     "data": {
      "text/plain": [
       "array([[<matplotlib.axes._subplots.AxesSubplot object at 0x0000016236B77278>,\n",
       "        <matplotlib.axes._subplots.AxesSubplot object at 0x0000016237FC8D68>,\n",
       "        <matplotlib.axes._subplots.AxesSubplot object at 0x0000016237FF13C8>],\n",
       "       [<matplotlib.axes._subplots.AxesSubplot object at 0x0000016236C1AA58>,\n",
       "        <matplotlib.axes._subplots.AxesSubplot object at 0x0000016236C39128>,\n",
       "        <matplotlib.axes._subplots.AxesSubplot object at 0x0000016236CA07B8>],\n",
       "       [<matplotlib.axes._subplots.AxesSubplot object at 0x0000016236CB9E48>,\n",
       "        <matplotlib.axes._subplots.AxesSubplot object at 0x0000016236CD6518>,\n",
       "        <matplotlib.axes._subplots.AxesSubplot object at 0x0000016236CEEBA8>]],\n",
       "      dtype=object)"
      ]
     },
     "execution_count": 30,
     "metadata": {},
     "output_type": "execute_result"
    },
    {
     "data": {
      "image/png": "[encoded data removed]",
      "text/plain": [
       "<Figure size 1440x1440 with 9 Axes>"
      ]
     },
     "metadata": {
      "needs_background": "light"
     },
     "output_type": "display_data"
    }
   ],
   "source": [
    "df_clean.hist(figsize=(20, 20))"
   ]
  },
  {
   "cell_type": "markdown",
   "metadata": {},
   "source": [
    "Especially 'Total_Risk', 'Number_of_Emp' and 'Total_Limit' columns have outstanding outlier values; because, we cannot observe meaningful distrubutions. Before starting a model, they need to be standardized."
   ]
  },
  {
   "cell_type": "code",
   "execution_count": 31,
   "metadata": {},
   "outputs": [
    {
     "data": {
      "image/png": "[encoded data removed]",
      "text/plain": [
       "<Figure size 432x288 with 1 Axes>"
      ]
     },
     "metadata": {
      "needs_background": "light"
     },
     "output_type": "display_data"
    },
    {
     "data": {
      "image/png": "[encoded data removed]",
      "text/plain": [
       "<Figure size 432x288 with 1 Axes>"
      ]
     },
     "metadata": {
      "needs_background": "light"
     },
     "output_type": "display_data"
    }
   ],
   "source": [
    "df_clean.Region.value_counts().head(40).plot.bar()\n",
    "plt.show();\n",
    "df_clean.Sector.value_counts().head(40).plot.bar()\n",
    "plt.show();"
   ]
  },
  {
   "cell_type": "markdown",
   "metadata": {},
   "source": [
    "Like we have seen in the main dataset, companies are mostly operates on retail sector in Marmara region. Before starting a model, dummy features should be created before start predictive analysis."
   ]
  },
  {
   "cell_type": "code",
   "execution_count": 32,
   "metadata": {},
   "outputs": [
    {
     "data": {
      "text/plain": [
       "Text(0.5,1,'Correlation Map')"
      ]
     },
     "execution_count": 32,
     "metadata": {},
     "output_type": "execute_result"
    },
    {
     "data": {
      "image/png": "[encoded data removed]",
      "text/plain": [
       "<Figure size 360x360 with 2 Axes>"
      ]
     },
     "metadata": {
      "needs_background": "light"
     },
     "output_type": "display_data"
    }
   ],
   "source": [
    "e,ea = plt.subplots(figsize=(5, 5))\n",
    "sns.heatmap(df_clean[['Sales', 'Risk',\n",
    "                      'Total_Risk', 'Total_Limit', \n",
    "                      'Customer_day_tenure', 'Number_of_Emp', \n",
    "                      'Profit']].corr(), annot=True, linewidths=.5, fmt= '.1f',ax=ea)\n",
    "plt.title('Correlation Map')"
   ]
  },
  {
   "cell_type": "markdown",
   "metadata": {},
   "source": [
    "* Sales feature has highest correlation with profit\n",
    "* Sales has negative correlation only with customer tenure as we found out in the question3\n",
    "* Total Risk and Total Limit features are highly correlated with each other. Therefore, one of them should be selected on the final model\n",
    "* I was expecting to see high correlation with Risk and Total_Risk features; however, they are not"
   ]
  },
  {
   "cell_type": "code",
   "execution_count": 33,
   "metadata": {},
   "outputs": [
    {
     "name": "stdout",
     "output_type": "stream",
     "text": [
      "<class 'pandas.core.frame.DataFrame'>\n",
      "Index: 3019 entries, RATI1000EDC to RATI9996WER\n",
      "Data columns (total 12 columns):\n",
      "YEAR                   3019 non-null int64\n",
      "Customer_num           3019 non-null object\n",
      "Customer_day_tenure    3019 non-null int64\n",
      "Number_of_Emp          2930 non-null float64\n",
      "Profit                 3019 non-null float64\n",
      "Sector                 3019 non-null object\n",
      "Region                 2750 non-null object\n",
      "Total_Risk             3019 non-null float64\n",
      "Total_Limit            3019 non-null float64\n",
      "Sales                  3019 non-null int32\n",
      "Risk                   3019 non-null int64\n",
      "intercept              3019 non-null int64\n",
      "dtypes: float64(4), int32(1), int64(4), object(3)\n",
      "memory usage: 294.8+ KB\n"
     ]
    }
   ],
   "source": [
    "df_clean.info()"
   ]
  },
  {
   "cell_type": "markdown",
   "metadata": {},
   "source": [
    "Number_of_Employees and Region features have missing values, should be filled."
   ]
  },
  {
   "cell_type": "markdown",
   "metadata": {},
   "source": [
    "<a id='Question5'></a>\n",
    "## Question5\n",
    "\n",
    "What is your assumptions of your model?"
   ]
  },
  {
   "cell_type": "markdown",
   "metadata": {},
   "source": [
    "First, binary logistic regression requires the dependent variable to be binary.\n",
    "\n",
    "Second, logistic regression requires the observations to be independent of each other.  In other words, the observations should not come from repeated measurements or matched data.\n",
    "\n",
    "Third, logistic regression requires there to be little or no multicollinearity among the independent variables.  This means that the independent variables should not be too highly correlated with each other.\n",
    "\n",
    "Fourth, logistic regression assumes linearity of independent variables and log odds.\n",
    "\n",
    "Finally, logistic regression typically requires a large sample size.  A general guideline is that you need at minimum of 10 cases with the least frequent outcome for each independent variable in your model. For example, if you have 5 independent variables and the expected probability of your least frequent outcome is .10, then you would need a minimum sample size of 500 (10*5 / .10).\n"
   ]
  },
  {
   "cell_type": "markdown",
   "metadata": {},
   "source": [
    "<a id='Question6'></a>\n",
    "## Question6\n",
    "\n",
    "Which methods did you apply for modeling?"
   ]
  },
  {
   "cell_type": "markdown",
   "metadata": {},
   "source": [
    "I will use logistic regression. Before diving into modelling, creation of dummy values, missing treatment, train-test splitting and standardization should be studied."
   ]
  },
  {
   "cell_type": "markdown",
   "metadata": {},
   "source": [
    "##### Categorical Value Treatment / Creation of Dummies"
   ]
  },
  {
   "cell_type": "code",
   "execution_count": 34,
   "metadata": {},
   "outputs": [
    {
     "data": {
      "text/plain": [
       "RETAIL-WHOLESALE    1532\n",
       "MANUFACTURING        753\n",
       "OTHERS               485\n",
       "SERVICES             249\n",
       "Name: Sector, dtype: int64"
      ]
     },
     "execution_count": 34,
     "metadata": {},
     "output_type": "execute_result"
    }
   ],
   "source": [
    "df_clean.Sector.value_counts()"
   ]
  },
  {
   "cell_type": "code",
   "execution_count": 35,
   "metadata": {},
   "outputs": [],
   "source": [
    "df_clean[['Retail_flag',\n",
    "          'Manuf_flag', \n",
    "          'Other_flag']] = pd.get_dummies(df_clean['Sector'])[['RETAIL-WHOLESALE',\n",
    "                                                               'MANUFACTURING',\n",
    "                                                               'OTHERS']]"
   ]
  },
  {
   "cell_type": "code",
   "execution_count": 36,
   "metadata": {},
   "outputs": [
    {
     "data": {
      "text/plain": [
       "Marmara Region                  1352\n",
       "Central Anatolia Region          433\n",
       "Aegean Region                    330\n",
       "Mediterranean Region             322\n",
       "Black Sea Region                 126\n",
       "Southeastern Anatolia Region     125\n",
       "Eastern Anatolia Region           62\n",
       "Name: Region, dtype: int64"
      ]
     },
     "execution_count": 36,
     "metadata": {},
     "output_type": "execute_result"
    }
   ],
   "source": [
    "df_clean.Region.value_counts()"
   ]
  },
  {
   "cell_type": "code",
   "execution_count": 37,
   "metadata": {},
   "outputs": [],
   "source": [
    "df_clean[['marmara_flag',\n",
    "          'central_anatolia_flag',\n",
    "          'aegean_flag',\n",
    "          'mediterranean_flag',\n",
    "          'black_flag', \n",
    "          'southeastern-flag']] = pd.get_dummies(df_clean['Region'])[['Marmara Region',\n",
    "                                                               'Central Anatolia Region',\n",
    "                                                               'Aegean Region',\n",
    "                                                                'Mediterranean Region', \n",
    "                                                                'Black Sea Region', \n",
    "                                                                'Southeastern Anatolia Region']]"
   ]
  },
  {
   "cell_type": "code",
   "execution_count": 38,
   "metadata": {},
   "outputs": [
    {
     "data": {
      "text/html": [
       "<div>\n",
       "<style scoped>\n",
       "    .dataframe tbody tr th:only-of-type {\n",
       "        vertical-align: middle;\n",
       "    }\n",
       "\n",
       "    .dataframe tbody tr th {\n",
       "        vertical-align: top;\n",
       "    }\n",
       "\n",
       "    .dataframe thead th {\n",
       "        text-align: right;\n",
       "    }\n",
       "</style>\n",
       "<table border=\"1\" class=\"dataframe\">\n",
       "  <thead>\n",
       "    <tr style=\"text-align: right;\">\n",
       "      <th></th>\n",
       "      <th>YEAR</th>\n",
       "      <th>Customer_num</th>\n",
       "      <th>Customer_day_tenure</th>\n",
       "      <th>Number_of_Emp</th>\n",
       "      <th>Profit</th>\n",
       "      <th>Sector</th>\n",
       "      <th>Region</th>\n",
       "      <th>Total_Risk</th>\n",
       "      <th>Total_Limit</th>\n",
       "      <th>Sales</th>\n",
       "      <th>...</th>\n",
       "      <th>intercept</th>\n",
       "      <th>Retail_flag</th>\n",
       "      <th>Manuf_flag</th>\n",
       "      <th>Other_flag</th>\n",
       "      <th>marmara_flag</th>\n",
       "      <th>central_anatolia_flag</th>\n",
       "      <th>aegean_flag</th>\n",
       "      <th>mediterranean_flag</th>\n",
       "      <th>black_flag</th>\n",
       "      <th>southeastern-flag</th>\n",
       "    </tr>\n",
       "    <tr>\n",
       "      <th>Customer_num</th>\n",
       "      <th></th>\n",
       "      <th></th>\n",
       "      <th></th>\n",
       "      <th></th>\n",
       "      <th></th>\n",
       "      <th></th>\n",
       "      <th></th>\n",
       "      <th></th>\n",
       "      <th></th>\n",
       "      <th></th>\n",
       "      <th></th>\n",
       "      <th></th>\n",
       "      <th></th>\n",
       "      <th></th>\n",
       "      <th></th>\n",
       "      <th></th>\n",
       "      <th></th>\n",
       "      <th></th>\n",
       "      <th></th>\n",
       "      <th></th>\n",
       "      <th></th>\n",
       "    </tr>\n",
       "  </thead>\n",
       "  <tbody>\n",
       "    <tr>\n",
       "      <th>RATI2775MMJ</th>\n",
       "      <td>2016</td>\n",
       "      <td>RATI2775MMJ</td>\n",
       "      <td>39481</td>\n",
       "      <td>45.0</td>\n",
       "      <td>17595.0</td>\n",
       "      <td>SERVICES</td>\n",
       "      <td>Marmara Region</td>\n",
       "      <td>0.0</td>\n",
       "      <td>1426464.0</td>\n",
       "      <td>0</td>\n",
       "      <td>...</td>\n",
       "      <td>1</td>\n",
       "      <td>0</td>\n",
       "      <td>0</td>\n",
       "      <td>0</td>\n",
       "      <td>1</td>\n",
       "      <td>0</td>\n",
       "      <td>0</td>\n",
       "      <td>0</td>\n",
       "      <td>0</td>\n",
       "      <td>0</td>\n",
       "    </tr>\n",
       "    <tr>\n",
       "      <th>RATI6535NDB</th>\n",
       "      <td>2011</td>\n",
       "      <td>RATI6535NDB</td>\n",
       "      <td>31092</td>\n",
       "      <td>5.0</td>\n",
       "      <td>-783940.0</td>\n",
       "      <td>RETAIL-WHOLESALE</td>\n",
       "      <td>Central Anatolia Region</td>\n",
       "      <td>2337294.0</td>\n",
       "      <td>3297338.0</td>\n",
       "      <td>0</td>\n",
       "      <td>...</td>\n",
       "      <td>1</td>\n",
       "      <td>1</td>\n",
       "      <td>0</td>\n",
       "      <td>0</td>\n",
       "      <td>0</td>\n",
       "      <td>1</td>\n",
       "      <td>0</td>\n",
       "      <td>0</td>\n",
       "      <td>0</td>\n",
       "      <td>0</td>\n",
       "    </tr>\n",
       "    <tr>\n",
       "      <th>RATI1569USA</th>\n",
       "      <td>2015</td>\n",
       "      <td>RATI1569USA</td>\n",
       "      <td>38995</td>\n",
       "      <td>1.0</td>\n",
       "      <td>-2218.0</td>\n",
       "      <td>RETAIL-WHOLESALE</td>\n",
       "      <td>Marmara Region</td>\n",
       "      <td>15660.0</td>\n",
       "      <td>191903.0</td>\n",
       "      <td>0</td>\n",
       "      <td>...</td>\n",
       "      <td>1</td>\n",
       "      <td>1</td>\n",
       "      <td>0</td>\n",
       "      <td>0</td>\n",
       "      <td>1</td>\n",
       "      <td>0</td>\n",
       "      <td>0</td>\n",
       "      <td>0</td>\n",
       "      <td>0</td>\n",
       "      <td>0</td>\n",
       "    </tr>\n",
       "    <tr>\n",
       "      <th>RATI5043HRD</th>\n",
       "      <td>2016</td>\n",
       "      <td>RATI5043HRD</td>\n",
       "      <td>36188</td>\n",
       "      <td>9.0</td>\n",
       "      <td>20070.0</td>\n",
       "      <td>RETAIL-WHOLESALE</td>\n",
       "      <td>Black Sea Region</td>\n",
       "      <td>1110047.0</td>\n",
       "      <td>1932840.0</td>\n",
       "      <td>0</td>\n",
       "      <td>...</td>\n",
       "      <td>1</td>\n",
       "      <td>1</td>\n",
       "      <td>0</td>\n",
       "      <td>0</td>\n",
       "      <td>0</td>\n",
       "      <td>0</td>\n",
       "      <td>0</td>\n",
       "      <td>0</td>\n",
       "      <td>1</td>\n",
       "      <td>0</td>\n",
       "    </tr>\n",
       "    <tr>\n",
       "      <th>RATI7257BCX</th>\n",
       "      <td>2017</td>\n",
       "      <td>RATI7257BCX</td>\n",
       "      <td>35679</td>\n",
       "      <td>8.0</td>\n",
       "      <td>22097.0</td>\n",
       "      <td>OTHERS</td>\n",
       "      <td>Marmara Region</td>\n",
       "      <td>418087.0</td>\n",
       "      <td>3772877.0</td>\n",
       "      <td>0</td>\n",
       "      <td>...</td>\n",
       "      <td>1</td>\n",
       "      <td>0</td>\n",
       "      <td>0</td>\n",
       "      <td>1</td>\n",
       "      <td>1</td>\n",
       "      <td>0</td>\n",
       "      <td>0</td>\n",
       "      <td>0</td>\n",
       "      <td>0</td>\n",
       "      <td>0</td>\n",
       "    </tr>\n",
       "  </tbody>\n",
       "</table>\n",
       "<p>5 rows × 21 columns</p>\n",
       "</div>"
      ],
      "text/plain": [
       "              YEAR Customer_num  Customer_day_tenure  Number_of_Emp    Profit  \\\n",
       "Customer_num                                                                    \n",
       "RATI2775MMJ   2016  RATI2775MMJ                39481           45.0   17595.0   \n",
       "RATI6535NDB   2011  RATI6535NDB                31092            5.0 -783940.0   \n",
       "RATI1569USA   2015  RATI1569USA                38995            1.0   -2218.0   \n",
       "RATI5043HRD   2016  RATI5043HRD                36188            9.0   20070.0   \n",
       "RATI7257BCX   2017  RATI7257BCX                35679            8.0   22097.0   \n",
       "\n",
       "                        Sector                   Region  Total_Risk  \\\n",
       "Customer_num                                                          \n",
       "RATI2775MMJ           SERVICES           Marmara Region         0.0   \n",
       "RATI6535NDB   RETAIL-WHOLESALE  Central Anatolia Region   2337294.0   \n",
       "RATI1569USA   RETAIL-WHOLESALE           Marmara Region     15660.0   \n",
       "RATI5043HRD   RETAIL-WHOLESALE         Black Sea Region   1110047.0   \n",
       "RATI7257BCX             OTHERS           Marmara Region    418087.0   \n",
       "\n",
       "              Total_Limit  Sales        ...          intercept  Retail_flag  \\\n",
       "Customer_num                            ...                                   \n",
       "RATI2775MMJ     1426464.0      0        ...                  1            0   \n",
       "RATI6535NDB     3297338.0      0        ...                  1            1   \n",
       "RATI1569USA      191903.0      0        ...                  1            1   \n",
       "RATI5043HRD     1932840.0      0        ...                  1            1   \n",
       "RATI7257BCX     3772877.0      0        ...                  1            0   \n",
       "\n",
       "              Manuf_flag  Other_flag  marmara_flag  central_anatolia_flag  \\\n",
       "Customer_num                                                                \n",
       "RATI2775MMJ            0           0             1                      0   \n",
       "RATI6535NDB            0           0             0                      1   \n",
       "RATI1569USA            0           0             1                      0   \n",
       "RATI5043HRD            0           0             0                      0   \n",
       "RATI7257BCX            0           1             1                      0   \n",
       "\n",
       "              aegean_flag  mediterranean_flag  black_flag  southeastern-flag  \n",
       "Customer_num                                                                  \n",
       "RATI2775MMJ             0                   0           0                  0  \n",
       "RATI6535NDB             0                   0           0                  0  \n",
       "RATI1569USA             0                   0           0                  0  \n",
       "RATI5043HRD             0                   0           1                  0  \n",
       "RATI7257BCX             0                   0           0                  0  \n",
       "\n",
       "[5 rows x 21 columns]"
      ]
     },
     "execution_count": 38,
     "metadata": {},
     "output_type": "execute_result"
    }
   ],
   "source": [
    "df_clean.sample(5)"
   ]
  },
  {
   "cell_type": "markdown",
   "metadata": {},
   "source": [
    "##### Missing Treatment\n",
    "\n",
    "There are many ways to fill missing values, even one of them is using machine learning algorithms like PCA. However, to make it easy in this case, I prefer to take median of the column; because, there are outlier values in the dataset."
   ]
  },
  {
   "cell_type": "code",
   "execution_count": 39,
   "metadata": {},
   "outputs": [
    {
     "data": {
      "text/html": [
       "<div>\n",
       "<style scoped>\n",
       "    .dataframe tbody tr th:only-of-type {\n",
       "        vertical-align: middle;\n",
       "    }\n",
       "\n",
       "    .dataframe tbody tr th {\n",
       "        vertical-align: top;\n",
       "    }\n",
       "\n",
       "    .dataframe thead th {\n",
       "        text-align: right;\n",
       "    }\n",
       "</style>\n",
       "<table border=\"1\" class=\"dataframe\">\n",
       "  <thead>\n",
       "    <tr style=\"text-align: right;\">\n",
       "      <th></th>\n",
       "      <th>Number_of_Emp_wo_missing</th>\n",
       "    </tr>\n",
       "  </thead>\n",
       "  <tbody>\n",
       "    <tr>\n",
       "      <th>44</th>\n",
       "      <td>1.0</td>\n",
       "    </tr>\n",
       "    <tr>\n",
       "      <th>1045</th>\n",
       "      <td>1.0</td>\n",
       "    </tr>\n",
       "    <tr>\n",
       "      <th>1519</th>\n",
       "      <td>25.0</td>\n",
       "    </tr>\n",
       "    <tr>\n",
       "      <th>1533</th>\n",
       "      <td>2.0</td>\n",
       "    </tr>\n",
       "  </tbody>\n",
       "</table>\n",
       "</div>"
      ],
      "text/plain": [
       "      Number_of_Emp_wo_missing\n",
       "44                         1.0\n",
       "1045                       1.0\n",
       "1519                      25.0\n",
       "1533                       2.0"
      ]
     },
     "execution_count": 39,
     "metadata": {},
     "output_type": "execute_result"
    }
   ],
   "source": [
    "imputer= Imputer(missing_values='NaN', strategy = 'median', axis=0 )\n",
    "\n",
    "\n",
    "Number_of_Emp = df_clean.iloc[:,3:4].values\n",
    "imputer = imputer.fit(Number_of_Emp)\n",
    "Number_of_Emp = imputer.transform(Number_of_Emp)\n",
    "\n",
    "# Converting numpy array to pandas dataframe\n",
    "Number_of_Emp2 =pd.DataFrame(data = Number_of_Emp, index = range(3019), columns = ['Number_of_Emp_wo_missing'])\n",
    "Number_of_Emp2.sample(4)"
   ]
  },
  {
   "cell_type": "code",
   "execution_count": 40,
   "metadata": {},
   "outputs": [
    {
     "name": "stdout",
     "output_type": "stream",
     "text": [
      "<class 'pandas.core.frame.DataFrame'>\n",
      "RangeIndex: 3019 entries, 0 to 3018\n",
      "Data columns (total 22 columns):\n",
      "YEAR                        3019 non-null int64\n",
      "Customer_num                3019 non-null object\n",
      "Customer_day_tenure         3019 non-null int64\n",
      "Number_of_Emp               2930 non-null float64\n",
      "Profit                      3019 non-null float64\n",
      "Sector                      3019 non-null object\n",
      "Region                      2750 non-null object\n",
      "Total_Risk                  3019 non-null float64\n",
      "Total_Limit                 3019 non-null float64\n",
      "Sales                       3019 non-null int32\n",
      "Risk                        3019 non-null int64\n",
      "intercept                   3019 non-null int64\n",
      "Retail_flag                 3019 non-null uint8\n",
      "Manuf_flag                  3019 non-null uint8\n",
      "Other_flag                  3019 non-null uint8\n",
      "marmara_flag                3019 non-null uint8\n",
      "central_anatolia_flag       3019 non-null uint8\n",
      "aegean_flag                 3019 non-null uint8\n",
      "mediterranean_flag          3019 non-null uint8\n",
      "black_flag                  3019 non-null uint8\n",
      "southeastern-flag           3019 non-null uint8\n",
      "Number_of_Emp_wo_missing    3019 non-null float64\n",
      "dtypes: float64(5), int32(1), int64(4), object(3), uint8(9)\n",
      "memory usage: 321.4+ KB\n"
     ]
    }
   ],
   "source": [
    "# Reset indexing before joining dataframes\n",
    "\n",
    "df_clean = df_clean.reset_index(drop=True)\n",
    "df_clean.sample()# Joining dataframes\n",
    "\n",
    "# Join dataframes\n",
    "df_clean2 = pd.concat([df_clean, Number_of_Emp2], axis=1)\n",
    "df_clean2.info()\n",
    "df_clean3 = df_clean2.copy()"
   ]
  },
  {
   "cell_type": "markdown",
   "metadata": {},
   "source": [
    "##### Train-Test Splitting\n",
    "\n",
    "There are many types of sampling method such as stratified random samplig, random sampling, under/over sampling, etc.Randomly sampled to dataset created %70 for train, %30 for test. "
   ]
  },
  {
   "cell_type": "code",
   "execution_count": 41,
   "metadata": {},
   "outputs": [
    {
     "data": {
      "text/html": [
       "<div>\n",
       "<style scoped>\n",
       "    .dataframe tbody tr th:only-of-type {\n",
       "        vertical-align: middle;\n",
       "    }\n",
       "\n",
       "    .dataframe tbody tr th {\n",
       "        vertical-align: top;\n",
       "    }\n",
       "\n",
       "    .dataframe thead th {\n",
       "        text-align: right;\n",
       "    }\n",
       "</style>\n",
       "<table border=\"1\" class=\"dataframe\">\n",
       "  <thead>\n",
       "    <tr style=\"text-align: right;\">\n",
       "      <th></th>\n",
       "      <th>Customer_day_tenure</th>\n",
       "      <th>Profit</th>\n",
       "      <th>Total_Risk</th>\n",
       "      <th>Risk</th>\n",
       "      <th>intercept</th>\n",
       "      <th>Retail_flag</th>\n",
       "      <th>Manuf_flag</th>\n",
       "      <th>Other_flag</th>\n",
       "      <th>marmara_flag</th>\n",
       "      <th>central_anatolia_flag</th>\n",
       "      <th>aegean_flag</th>\n",
       "      <th>mediterranean_flag</th>\n",
       "      <th>black_flag</th>\n",
       "      <th>southeastern-flag</th>\n",
       "      <th>Number_of_Emp_wo_missing</th>\n",
       "    </tr>\n",
       "  </thead>\n",
       "  <tbody>\n",
       "    <tr>\n",
       "      <th>0</th>\n",
       "      <td>40206</td>\n",
       "      <td>39846.0</td>\n",
       "      <td>38795.0</td>\n",
       "      <td>0</td>\n",
       "      <td>1</td>\n",
       "      <td>1</td>\n",
       "      <td>0</td>\n",
       "      <td>0</td>\n",
       "      <td>1</td>\n",
       "      <td>0</td>\n",
       "      <td>0</td>\n",
       "      <td>0</td>\n",
       "      <td>0</td>\n",
       "      <td>0</td>\n",
       "      <td>13.0</td>\n",
       "    </tr>\n",
       "    <tr>\n",
       "      <th>1</th>\n",
       "      <td>33701</td>\n",
       "      <td>82182.0</td>\n",
       "      <td>4603985.0</td>\n",
       "      <td>0</td>\n",
       "      <td>1</td>\n",
       "      <td>0</td>\n",
       "      <td>0</td>\n",
       "      <td>1</td>\n",
       "      <td>1</td>\n",
       "      <td>0</td>\n",
       "      <td>0</td>\n",
       "      <td>0</td>\n",
       "      <td>0</td>\n",
       "      <td>0</td>\n",
       "      <td>20.0</td>\n",
       "    </tr>\n",
       "    <tr>\n",
       "      <th>2</th>\n",
       "      <td>38138</td>\n",
       "      <td>39176.0</td>\n",
       "      <td>669969.0</td>\n",
       "      <td>0</td>\n",
       "      <td>1</td>\n",
       "      <td>0</td>\n",
       "      <td>0</td>\n",
       "      <td>0</td>\n",
       "      <td>0</td>\n",
       "      <td>1</td>\n",
       "      <td>0</td>\n",
       "      <td>0</td>\n",
       "      <td>0</td>\n",
       "      <td>0</td>\n",
       "      <td>20.0</td>\n",
       "    </tr>\n",
       "    <tr>\n",
       "      <th>3</th>\n",
       "      <td>40224</td>\n",
       "      <td>95724.0</td>\n",
       "      <td>3288592.0</td>\n",
       "      <td>0</td>\n",
       "      <td>1</td>\n",
       "      <td>1</td>\n",
       "      <td>0</td>\n",
       "      <td>0</td>\n",
       "      <td>0</td>\n",
       "      <td>0</td>\n",
       "      <td>0</td>\n",
       "      <td>0</td>\n",
       "      <td>0</td>\n",
       "      <td>1</td>\n",
       "      <td>9.0</td>\n",
       "    </tr>\n",
       "    <tr>\n",
       "      <th>4</th>\n",
       "      <td>36161</td>\n",
       "      <td>58446.0</td>\n",
       "      <td>216474.0</td>\n",
       "      <td>0</td>\n",
       "      <td>1</td>\n",
       "      <td>0</td>\n",
       "      <td>1</td>\n",
       "      <td>0</td>\n",
       "      <td>1</td>\n",
       "      <td>0</td>\n",
       "      <td>0</td>\n",
       "      <td>0</td>\n",
       "      <td>0</td>\n",
       "      <td>0</td>\n",
       "      <td>33.0</td>\n",
       "    </tr>\n",
       "  </tbody>\n",
       "</table>\n",
       "</div>"
      ],
      "text/plain": [
       "   Customer_day_tenure   Profit  Total_Risk  Risk  intercept  Retail_flag  \\\n",
       "0                40206  39846.0     38795.0     0          1            1   \n",
       "1                33701  82182.0   4603985.0     0          1            0   \n",
       "2                38138  39176.0    669969.0     0          1            0   \n",
       "3                40224  95724.0   3288592.0     0          1            1   \n",
       "4                36161  58446.0    216474.0     0          1            0   \n",
       "\n",
       "   Manuf_flag  Other_flag  marmara_flag  central_anatolia_flag  aegean_flag  \\\n",
       "0           0           0             1                      0            0   \n",
       "1           0           1             1                      0            0   \n",
       "2           0           0             0                      1            0   \n",
       "3           0           0             0                      0            0   \n",
       "4           1           0             1                      0            0   \n",
       "\n",
       "   mediterranean_flag  black_flag  southeastern-flag  Number_of_Emp_wo_missing  \n",
       "0                   0           0                  0                      13.0  \n",
       "1                   0           0                  0                      20.0  \n",
       "2                   0           0                  0                      20.0  \n",
       "3                   0           0                  1                       9.0  \n",
       "4                   0           0                  0                      33.0  "
      ]
     },
     "execution_count": 41,
     "metadata": {},
     "output_type": "execute_result"
    }
   ],
   "source": [
    "df_clean3.drop([\"YEAR\",\"Customer_num\", \"Number_of_Emp\", \"Sector\", \"Region\", \"Total_Limit\",\"Sales\" ], axis=1, inplace=True)\n",
    "\n",
    "df_clean3.head()"
   ]
  },
  {
   "cell_type": "code",
   "execution_count": 42,
   "metadata": {},
   "outputs": [],
   "source": [
    "x = df_clean3.values#independent varaibles\n",
    "y = df_clean2[\"Sales\"].values #dependent variable\n",
    "\n",
    "x_train, x_test,y_train,y_test = train_test_split(x,y,test_size=0.30, random_state=0)"
   ]
  },
  {
   "cell_type": "markdown",
   "metadata": {},
   "source": [
    "#### Standardization \n",
    "\n",
    "Calculating the features how much standard deviation away from the mean."
   ]
  },
  {
   "cell_type": "code",
   "execution_count": 43,
   "metadata": {},
   "outputs": [],
   "source": [
    "sc = StandardScaler()\n",
    "X_train = sc.fit_transform(x_train)\n",
    "X_test = sc.transform(x_test)"
   ]
  },
  {
   "cell_type": "markdown",
   "metadata": {},
   "source": [
    "#### Fitting Logistic Regression"
   ]
  },
  {
   "cell_type": "code",
   "execution_count": 44,
   "metadata": {},
   "outputs": [],
   "source": [
    "logr = LogisticRegression(random_state=0)\n",
    "logr.fit(X_train,y_train)\n",
    "y_pred = logr.predict(X_test)\n",
    "y_pred2 = logr.predict(X_train)"
   ]
  },
  {
   "cell_type": "markdown",
   "metadata": {},
   "source": [
    "<a id='Question7'></a>\n",
    "## Question7\n",
    "\n",
    "What is your model result? How do you measure performance of your model?"
   ]
  },
  {
   "cell_type": "markdown",
   "metadata": {},
   "source": [
    "Our aim to find out the clients which have higher than 5 mio net sales. Confusion matrix can be calculated; because, there is classification problem.\n",
    "\n",
    "There are many performance metrics calcuted from confusion matrix. However, in our case, it is important to find overall accuracy value which indicates that how algortihm estimated both goods and bads and sensitivity value which shows that how good the algorithm is estimating the bads (true positive regocnition rate). Final but not least, it is also important to see recall value which indicates that how algoritmn performs good while predicting the bad."
   ]
  },
  {
   "cell_type": "code",
   "execution_count": 45,
   "metadata": {},
   "outputs": [
    {
     "data": {
      "text/plain": [
       "array([[1638,   31],\n",
       "       [ 405,   39]], dtype=int64)"
      ]
     },
     "execution_count": 45,
     "metadata": {},
     "output_type": "execute_result"
    }
   ],
   "source": [
    "cm_train = confusion_matrix(y_train,y_pred2)\n",
    "cm_train"
   ]
  },
  {
   "cell_type": "code",
   "execution_count": 46,
   "metadata": {},
   "outputs": [
    {
     "data": {
      "text/plain": [
       "array([[706,  13],\n",
       "       [175,  12]], dtype=int64)"
      ]
     },
     "execution_count": 46,
     "metadata": {},
     "output_type": "execute_result"
    }
   ],
   "source": [
    "cm_test = confusion_matrix(y_test,y_pred)\n",
    "cm_test"
   ]
  },
  {
   "cell_type": "code",
   "execution_count": 47,
   "metadata": {},
   "outputs": [
    {
     "name": "stdout",
     "output_type": "stream",
     "text": [
      "Accuracy value on the train dataset: 0.7936583057264552\n",
      "Accuracy value on the test dataset: 0.7924944812362031\n"
     ]
    }
   ],
   "source": [
    "accuracy_train = (1638+39)/(1638+39+31+405)\n",
    "accuracy_test = (706+12)/(706+13+175+12)\n",
    "\n",
    "print(\"Accuracy value on the train dataset: {}\" . format(accuracy_train))\n",
    "print(\"Accuracy value on the test dataset: {}\" . format(accuracy_test))"
   ]
  },
  {
   "cell_type": "markdown",
   "metadata": {},
   "source": [
    "There is stable performances on both train and test datasets. Model is classifing %79 correct both goods and bads."
   ]
  },
  {
   "cell_type": "code",
   "execution_count": 48,
   "metadata": {},
   "outputs": [
    {
     "name": "stdout",
     "output_type": "stream",
     "text": [
      "Sensitivity value on the train dataset: 0.981426003594967\n",
      "Sensitivity value on the test dataset: 0.9819193324061196\n"
     ]
    }
   ],
   "source": [
    "Sensitivity_train = 1638/(1638+31)\n",
    "Sensitivity_test = (706)/(706+13)\n",
    "\n",
    "print(\"Sensitivity value on the train dataset: {}\" . format(Sensitivity_train))\n",
    "print(\"Sensitivity value on the test dataset: {}\" . format(Sensitivity_test))"
   ]
  },
  {
   "cell_type": "markdown",
   "metadata": {},
   "source": [
    "Model captures %98 of bads correctly."
   ]
  },
  {
   "cell_type": "code",
   "execution_count": 49,
   "metadata": {},
   "outputs": [
    {
     "name": "stdout",
     "output_type": "stream",
     "text": [
      "Recall value on the train dataset: 0.801762114537445\n",
      "Recall value on the test dataset: 0.9832869080779945\n"
     ]
    }
   ],
   "source": [
    "recall_train = (1638)/(1638+405)\n",
    "recall_test = (706)/(706+12)\n",
    "\n",
    "print(\"Recall value on the train dataset: {}\" . format(recall_train))\n",
    "print(\"Recall value on the test dataset: {}\" . format(recall_test))"
   ]
  },
  {
   "cell_type": "markdown",
   "metadata": {},
   "source": [
    "Model is %98 correct while predicting bads"
   ]
  }
 ],
 "metadata": {
  "kernelspec": {
   "display_name": "Python 3",
   "language": "python",
   "name": "python3"
  },
  "language_info": {
   "codemirror_mode": {
    "name": "ipython",
    "version": 3
   },
   "file_extension": ".py",
   "mimetype": "text/x-python",
   "name": "python",
   "nbconvert_exporter": "python",
   "pygments_lexer": "ipython3",
   "version": "3.6.5"
  }
 },
 "nbformat": 4,
 "nbformat_minor": 2
}
